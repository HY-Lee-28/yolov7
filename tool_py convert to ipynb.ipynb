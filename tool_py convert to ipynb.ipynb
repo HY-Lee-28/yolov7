{
 "cells": [
  {
   "cell_type": "code",
   "execution_count": 1,
   "id": "55598030-78fd-42da-b483-db9e865ea392",
   "metadata": {
    "tags": []
   },
   "outputs": [
    {
     "name": "stdout",
     "output_type": "stream",
     "text": [
      "Collecting jupytext\n",
      "  Downloading jupytext-1.16.1-py3-none-any.whl.metadata (12 kB)\n",
      "Requirement already satisfied: markdown-it-py>=1.0 in /opt/conda/lib/python3.11/site-packages (from jupytext) (3.0.0)\n",
      "Collecting mdit-py-plugins (from jupytext)\n",
      "  Downloading mdit_py_plugins-0.4.0-py3-none-any.whl.metadata (2.7 kB)\n",
      "Requirement already satisfied: nbformat in /opt/conda/lib/python3.11/site-packages (from jupytext) (5.9.2)\n",
      "Requirement already satisfied: packaging in /opt/conda/lib/python3.11/site-packages (from jupytext) (23.2)\n",
      "Requirement already satisfied: pyyaml in /opt/conda/lib/python3.11/site-packages (from jupytext) (6.0.1)\n",
      "Collecting toml (from jupytext)\n",
      "  Downloading toml-0.10.2-py2.py3-none-any.whl.metadata (7.1 kB)\n",
      "Requirement already satisfied: mdurl~=0.1 in /opt/conda/lib/python3.11/site-packages (from markdown-it-py>=1.0->jupytext) (0.1.2)\n",
      "Requirement already satisfied: fastjsonschema in /opt/conda/lib/python3.11/site-packages (from nbformat->jupytext) (2.18.1)\n",
      "Requirement already satisfied: jsonschema>=2.6 in /opt/conda/lib/python3.11/site-packages (from nbformat->jupytext) (4.19.1)\n",
      "Requirement already satisfied: jupyter-core in /opt/conda/lib/python3.11/site-packages (from nbformat->jupytext) (5.4.0)\n",
      "Requirement already satisfied: traitlets>=5.1 in /opt/conda/lib/python3.11/site-packages (from nbformat->jupytext) (5.11.2)\n",
      "Requirement already satisfied: attrs>=22.2.0 in /opt/conda/lib/python3.11/site-packages (from jsonschema>=2.6->nbformat->jupytext) (23.1.0)\n",
      "Requirement already satisfied: jsonschema-specifications>=2023.03.6 in /opt/conda/lib/python3.11/site-packages (from jsonschema>=2.6->nbformat->jupytext) (2023.7.1)\n",
      "Requirement already satisfied: referencing>=0.28.4 in /opt/conda/lib/python3.11/site-packages (from jsonschema>=2.6->nbformat->jupytext) (0.30.2)\n",
      "Requirement already satisfied: rpds-py>=0.7.1 in /opt/conda/lib/python3.11/site-packages (from jsonschema>=2.6->nbformat->jupytext) (0.10.6)\n",
      "Requirement already satisfied: platformdirs>=2.5 in /opt/conda/lib/python3.11/site-packages (from jupyter-core->nbformat->jupytext) (3.11.0)\n",
      "Downloading jupytext-1.16.1-py3-none-any.whl (152 kB)\n",
      "\u001b[2K   \u001b[90m━━━━━━━━━━━━━━━━━━━━━━━━━━━━━━━━━━━━━━━━\u001b[0m \u001b[32m152.7/152.7 kB\u001b[0m \u001b[31m2.8 MB/s\u001b[0m eta \u001b[36m0:00:00\u001b[0m \u001b[36m0:00:01\u001b[0m\n",
      "\u001b[?25hDownloading mdit_py_plugins-0.4.0-py3-none-any.whl (54 kB)\n",
      "\u001b[2K   \u001b[90m━━━━━━━━━━━━━━━━━━━━━━━━━━━━━━━━━━━━━━━━\u001b[0m \u001b[32m54.1/54.1 kB\u001b[0m \u001b[31m16.5 MB/s\u001b[0m eta \u001b[36m0:00:00\u001b[0m\n",
      "\u001b[?25hDownloading toml-0.10.2-py2.py3-none-any.whl (16 kB)\n",
      "Installing collected packages: toml, mdit-py-plugins, jupytext\n",
      "Successfully installed jupytext-1.16.1 mdit-py-plugins-0.4.0 toml-0.10.2\n",
      "Note: you may need to restart the kernel to use updated packages.\n"
     ]
    }
   ],
   "source": [
    "#pip install jupytext"
   ]
  },
  {
   "cell_type": "code",
   "execution_count": null,
   "id": "9bd5d90b-c6fd-4fdc-8600-c76a00308811",
   "metadata": {},
   "outputs": [],
   "source": [
    "# py->ipynb"
   ]
  },
  {
   "cell_type": "code",
   "execution_count": 2,
   "id": "eb3c3245-9716-44a5-ad53-56e7262beb5a",
   "metadata": {
    "tags": []
   },
   "outputs": [
    {
     "name": "stdout",
     "output_type": "stream",
     "text": [
      "[jupytext] Reading 2024_STL_aki.py in format py\n",
      "[jupytext] Writing 2024_STL_aki.ipynb (destination file replaced [use --update to preserve cell outputs and ids])\n"
     ]
    }
   ],
   "source": [
    "!jupytext --to notebook 2024_STL_aki.py"
   ]
  },
  {
   "cell_type": "code",
   "execution_count": 1,
   "id": "218dc771-f363-461e-b462-7cfe6abc4bf9",
   "metadata": {
    "tags": []
   },
   "outputs": [
    {
     "name": "stdout",
     "output_type": "stream",
     "text": [
      "[jupytext] Reading small-object-detection-01.py in format py\n",
      "Traceback (most recent call last):\n",
      "  File \"/opt/conda/bin/jupytext\", line 8, in <module>\n",
      "    sys.exit(jupytext())\n",
      "             ^^^^^^^^^^\n",
      "  File \"/opt/conda/lib/python3.11/site-packages/jupytext/cli.py\", line 497, in jupytext\n",
      "    exit_code += jupytext_single_file(nb_file, args, log)\n",
      "                 ^^^^^^^^^^^^^^^^^^^^^^^^^^^^^^^^^^^^^^^^\n",
      "  File \"/opt/conda/lib/python3.11/site-packages/jupytext/cli.py\", line 561, in jupytext_single_file\n",
      "    notebook = read(nb_file, fmt=fmt, config=config)\n",
      "               ^^^^^^^^^^^^^^^^^^^^^^^^^^^^^^^^^^^^^\n",
      "  File \"/opt/conda/lib/python3.11/site-packages/jupytext/jupytext.py\", line 420, in read\n",
      "    with open(fp, encoding=\"utf-8\") as stream:\n",
      "         ^^^^^^^^^^^^^^^^^^^^^^^^^^\n",
      "FileNotFoundError: [Errno 2] No such file or directory: 'small-object-detection-01.py'\n"
     ]
    }
   ],
   "source": [
    "!jupytext --to notebook small-object-detection-01.py"
   ]
  },
  {
   "cell_type": "code",
   "execution_count": null,
   "id": "5daa98d3-207d-4e2b-bc3c-437b94bf2687",
   "metadata": {},
   "outputs": [],
   "source": [
    "# ipynb-> py"
   ]
  },
  {
   "cell_type": "code",
   "execution_count": 1,
   "id": "636938f4-b4ef-4598-a6a1-483e4563e016",
   "metadata": {
    "tags": []
   },
   "outputs": [
    {
     "name": "stdout",
     "output_type": "stream",
     "text": [
      "[NbConvertApp] Converting notebook nni_exp_Mortality-Muti_task.ipynb to script\n",
      "[NbConvertApp] Writing 1750 bytes to nni_exp_Mortality-Muti_task.py\n"
     ]
    }
   ],
   "source": [
    "!jupyter nbconvert --to script nni_exp_Mortality-Muti_task.ipynb"
   ]
  },
  {
   "cell_type": "code",
   "execution_count": 2,
   "id": "59cf8289-1b2e-4e0a-9162-f3251fc6222b",
   "metadata": {},
   "outputs": [
    {
     "name": "stdout",
     "output_type": "stream",
     "text": [
      "[NbConvertApp] Converting notebook small-object-detection-01.ipynb to script\n",
      "[NbConvertApp] Writing 16616 bytes to small-object-detection-01.py\n"
     ]
    }
   ],
   "source": [
    "!jupyter nbconvert --to script small-object-detection-01.ipynb"
   ]
  },
  {
   "cell_type": "code",
   "execution_count": null,
   "id": "5fd04c8d-a52d-41c9-9769-7db440473de6",
   "metadata": {},
   "outputs": [],
   "source": []
  }
 ],
 "metadata": {
  "kernelspec": {
   "display_name": "Python 3 (ipykernel)",
   "language": "python",
   "name": "python3"
  },
  "language_info": {
   "codemirror_mode": {
    "name": "ipython",
    "version": 3
   },
   "file_extension": ".py",
   "mimetype": "text/x-python",
   "name": "python",
   "nbconvert_exporter": "python",
   "pygments_lexer": "ipython3",
   "version": "3.11.6"
  }
 },
 "nbformat": 4,
 "nbformat_minor": 5
}
